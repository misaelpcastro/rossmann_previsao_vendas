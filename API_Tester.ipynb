{
 "cells": [
  {
   "cell_type": "code",
   "execution_count": 1,
   "metadata": {
    "ExecuteTime": {
     "end_time": "2021-07-27T18:31:12.024821Z",
     "start_time": "2021-07-27T18:31:11.579044Z"
    }
   },
   "outputs": [],
   "source": [
    "import requests\n",
    "import pandas  as pd"
   ]
  },
  {
   "cell_type": "code",
   "execution_count": 2,
   "metadata": {
    "ExecuteTime": {
     "end_time": "2021-07-27T18:31:57.176486Z",
     "start_time": "2021-07-27T18:31:57.136199Z"
    }
   },
   "outputs": [],
   "source": [
    "# Carregando Dados de Teste\n",
    "df10 = pd.read_csv('D:/Git/repos/rossmann_previsao_vendas/dados/test.csv')\n",
    "df_store = pd.read_csv('D:/Git/repos/rossmann_previsao_vendas/dados/store.csv')"
   ]
  },
  {
   "cell_type": "code",
   "execution_count": 3,
   "metadata": {
    "ExecuteTime": {
     "end_time": "2021-07-27T18:32:11.956493Z",
     "start_time": "2021-07-27T18:32:11.918515Z"
    }
   },
   "outputs": [],
   "source": [
    "# Merge do Dados de Teste e Store\n",
    "df_test = pd.merge(df10, df_store, how='left' , on='Store')\n",
    "\n",
    "# Escolhendo uma loja para fazer a predição\n",
    "df_test = df_test[df_test['Store'].isin([22])]\n",
    "\n",
    "# Removendo os dias que a loja está fechada\n",
    "df_test = df_test[df_test['Open'] != 0]\n",
    "df_test = df_test[~df_test['Open'].isnull()]\n",
    "df_test = df_test.drop('Id', axis=1)"
   ]
  },
  {
   "cell_type": "code",
   "execution_count": 4,
   "metadata": {
    "ExecuteTime": {
     "end_time": "2021-07-27T18:32:27.804010Z",
     "start_time": "2021-07-27T18:32:27.791073Z"
    }
   },
   "outputs": [],
   "source": [
    "# Convertendo Dataframe em Json\n",
    "data = json.dumps(df_test.to_dict(orient='records'))"
   ]
  },
  {
   "cell_type": "code",
   "execution_count": 5,
   "metadata": {
    "ExecuteTime": {
     "end_time": "2021-07-27T18:32:43.163899Z",
     "start_time": "2021-07-27T18:32:41.503034Z"
    }
   },
   "outputs": [
    {
     "name": "stdout",
     "output_type": "stream",
     "text": [
      "Status Code 200\n"
     ]
    }
   ],
   "source": [
    "# Chamada da API\n",
    "url = 'https://previsao-rossmann.herokuapp.com/rossmann/predict'\n",
    "header = {'Content-type': 'application/json'}\n",
    "data = data\n",
    "\n",
    "r = requests.post(url, data=data, headers=header)\n",
    "print('Status Code {}'.format(r.status_code))"
   ]
  },
  {
   "cell_type": "code",
   "execution_count": 6,
   "metadata": {
    "ExecuteTime": {
     "end_time": "2021-07-27T18:32:53.233923Z",
     "start_time": "2021-07-27T18:32:53.215002Z"
    }
   },
   "outputs": [],
   "source": [
    "# Convertendo Json em Dataframe \n",
    "d1 = pd.DataFrame(r.json(), columns=r.json()[0].keys())"
   ]
  },
  {
   "cell_type": "code",
   "execution_count": 7,
   "metadata": {
    "ExecuteTime": {
     "end_time": "2021-07-27T18:33:05.017926Z",
     "start_time": "2021-07-27T18:33:05.006984Z"
    }
   },
   "outputs": [
    {
     "name": "stdout",
     "output_type": "stream",
     "text": [
      "Loja número 22 vai vender R$164,554.19 nas próximas 6 semanas.\n"
     ]
    }
   ],
   "source": [
    "d2 = d1[['store','prediction']].groupby('store').sum().reset_index()\n",
    "\n",
    "for i in range(len(d2)):\n",
    "    print('Loja número {} vai vender R${:,.2f} nas próximas 6 semanas.'.format(d2.loc[i,'store'], d2.loc[i,'prediction']))"
   ]
  }
 ],
 "metadata": {
  "kernelspec": {
   "display_name": "Python 3",
   "language": "python",
   "name": "python3"
  },
  "language_info": {
   "codemirror_mode": {
    "name": "ipython",
    "version": 3
   },
   "file_extension": ".py",
   "mimetype": "text/x-python",
   "name": "python",
   "nbconvert_exporter": "python",
   "pygments_lexer": "ipython3",
   "version": "3.8.10"
  }
 },
 "nbformat": 4,
 "nbformat_minor": 4
}
